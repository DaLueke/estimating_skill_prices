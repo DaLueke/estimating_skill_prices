{
 "cells": [
  {
   "cell_type": "markdown",
   "metadata": {},
   "source": [
    "This notebook will contain the results of my MC simulations."
   ]
  },
  {
   "cell_type": "code",
   "execution_count": 73,
   "metadata": {},
   "outputs": [],
   "source": [
    "# import packages\n",
    "import matplotlib.pyplot as plt\n",
    "import statsmodels.api as sms\n",
    "import seaborn as sns\n",
    "import pandas as pd\n",
    "import numpy as np\n",
    "import sys\n",
    "import os\n",
    "\n",
    "# import function of DGP\n",
    "from MC_simulation.DGP.draw_data import draw_simulation_data"
   ]
  },
  {
   "cell_type": "code",
   "execution_count": 217,
   "metadata": {},
   "outputs": [],
   "source": [
    "# Define optional arguments of DGP.\n",
    "kwargs = {\n",
    "          # (1) Arguments for price changing process.\n",
    "          \"pi_fun\": \"pi_fixed\",\n",
    "          \"const\": [0.0, 0.1]\n",
    "          }\n",
    "# set number of MC iterations\n",
    "np.random.seed(100)\n",
    "M = 1\n",
    "N = 100\n",
    "\n",
    "# initialize result arrays\n",
    "utility_on_mean_lmb = np.empty(M)\n",
    "adj_wage_on_mean_lmb = np.empty(M)\n",
    "wage_on_mean_lmb = np.empty(M)\n",
    "wage_on_mean_and_diff_lmb = np.empty(M)"
   ]
  },
  {
   "cell_type": "code",
   "execution_count": 218,
   "metadata": {
    "code_folding": []
   },
   "outputs": [],
   "source": [
    "# Start MC loop\n",
    "for m in range(M):\n",
    "    # Draw simulatioon data\n",
    "    sim_data = draw_simulation_data(\n",
    "        T=3,\n",
    "        N=N,\n",
    "        J=2,\n",
    "        penalty=\"quad\",\n",
    "        p_weight=15,\n",
    "        p_locus=(0.3, 0.7),\n",
    "        p_exponent=2,\n",
    "        **kwargs\n",
    "    )\n",
    "\n",
    "    idx = pd.IndexSlice\n",
    "\n",
    "    # Calculate mean task choice in base period\n",
    "    mean_lmb_base = np.array(\n",
    "        sim_data.loc[idx[0, :], \"lambda\"].values +\n",
    "        sim_data.loc[idx[1, :], \"lambda\"].values\n",
    "        )/2\n",
    "\n",
    "    # Calculate chage in task choice in base period\n",
    "    diff_lmb_base = np.array(\n",
    "        sim_data.loc[idx[1, :], \"lambda\"].values -\n",
    "        sim_data.loc[idx[0, :], \"lambda\"].values\n",
    "        )\n",
    "\n",
    "    # utility change in base period\n",
    "    util_change_base = np.array(\n",
    "        sim_data.loc[idx[1, :], \"utility\"].values -\n",
    "        sim_data.loc[idx[0, :], \"utility\"].values\n",
    "        )\n",
    "\n",
    "    # wage change in base period\n",
    "    wage_change_base = np.array(\n",
    "        sim_data.loc[idx[1, :], \"wage\"].values -\n",
    "        sim_data.loc[idx[0, :], \"wage\"].values\n",
    "        )\n",
    "\n",
    "    # Estimate changes in amenities and skill accumulation in base period\n",
    "    exog_base = pd.DataFrame(data={\n",
    "        \"const\": np.ones(N),\n",
    "        \"mean_lmb_base\": mean_lmb_base.astype(float),\n",
    "        \"diff_lmb_base\": diff_lmb_base.astype(float),\n",
    "        \"lmb_inter_base\": mean_lmb_base.astype(float) *\n",
    "        diff_lmb_base.astype(float),\n",
    "        \"lmb_0\": sim_data.loc[idx[0, :], \"lambda\"].values.astype(float),\n",
    "        \"lmb_0^2\": sim_data.loc[idx[0, :], \"lambda\"].values.astype(float)**2,\n",
    "        \"lmb_1\": sim_data.loc[idx[1, :], \"lambda\"].values.astype(float),\n",
    "        \"lmb_1^2\": sim_data.loc[idx[1, :], \"lambda\"].values.astype(float)**2,\n",
    "        \"mean_lmb_inter_lmb_0\": mean_lmb_base.astype(float) *\n",
    "        sim_data.loc[idx[0, :], \"lambda\"].values.astype(float),\n",
    "        })\n",
    "\n",
    "    OLS_base_period_result = sms.OLS(\n",
    "        endog=wage_change_base.astype(float),\n",
    "        exog=exog_base[[\n",
    "            # \"const\",\n",
    "            # \"lmb_0\",\n",
    "            \"lmb_1\",\n",
    "            # \"lmb_0^2\",\n",
    "            \"lmb_1^2\",\n",
    "            # \"mean_lmb_base\",\n",
    "            # \"diff_lmb_base\",\n",
    "            # \"lmb_inter_base\"\n",
    "            ]]\n",
    "        ).fit()\n",
    "        # Use estimation result to adjust wages changes for skill and\n",
    "    # amenity changes in subsequent periods\n",
    "\n",
    "    # Calculate mean task choice in estimation period\n",
    "    mean_lmb_est = np.array(\n",
    "        sim_data.loc[idx[2, :], \"lambda\"].values +\n",
    "        sim_data.loc[idx[1, :], \"lambda\"].values\n",
    "        )/2\n",
    "\n",
    "    # Calculate chage in task choice in estimation period\n",
    "    diff_lmb_est = np.array(\n",
    "        sim_data.loc[idx[2, :], \"lambda\"].values -\n",
    "        sim_data.loc[idx[1, :], \"lambda\"].values\n",
    "        )\n",
    "\n",
    "    # wage change in estimation period\n",
    "    wage_change_est = np.array(\n",
    "        sim_data.loc[idx[2, :], \"wage\"].values -\n",
    "        sim_data.loc[idx[1, :], \"wage\"].values\n",
    "        )\n",
    "\n",
    "    # wage change in estimation period\n",
    "    util_change_est = np.array(\n",
    "        sim_data.loc[idx[2, :], \"utility\"].values -\n",
    "        sim_data.loc[idx[1, :], \"utility\"].values\n",
    "        )\n",
    "\n",
    "    # Write exogeneous variables into df\n",
    "    exog_est = pd.DataFrame(data={\n",
    "        \"const\": np.ones(N),\n",
    "        \"mean_lmb_est\": mean_lmb_est.astype(float),\n",
    "        \"diff_lmb_est\": diff_lmb_est.astype(float),\n",
    "        \"lmb_inter_est\": mean_lmb_est.astype(float)*diff_lmb_est.astype(float),\n",
    "        \"lmb_1\": sim_data.loc[idx[1, :], \"lambda\"].values.astype(float),\n",
    "        \"lmb_1^2\": sim_data.loc[idx[1, :], \"lambda\"].values.astype(float)**2,\n",
    "        \"lmb_2\": sim_data.loc[idx[2, :], \"lambda\"].values.astype(float),\n",
    "        \"lmb_2^2\": sim_data.loc[idx[2, :], \"lambda\"].values.astype(float)**2,\n",
    "        \"mean_lmb_inter_lmb_1\": mean_lmb_est.astype(float) *\n",
    "        sim_data.loc[idx[1, :], \"lambda\"].values.astype(float),\n",
    "        })\n",
    "\n",
    "    # Adjust wage change for predicted changes in skills and amentities\n",
    "    wage_change_est_adjusted = wage_change_est - \\\n",
    "        OLS_base_period_result.predict(\n",
    "            exog_est[[\n",
    "                # \"mean_lmb_est\",\n",
    "                # \"const\",\n",
    "                # \"lmb_1\",\n",
    "                \"lmb_2\",\n",
    "                # \"lmb_1^2\",\n",
    "                \"lmb_2^2\",\n",
    "                # \"diff_lmb_est\",\n",
    "                # \"lmb_inter_est\"\n",
    "                ]]\n",
    "            )\n",
    "\n",
    "    # Regress adjusted wage changes on mean_lmb\n",
    "    pi_tilde = sms.OLS(\n",
    "        endog=wage_change_est_adjusted.astype(float),\n",
    "        exog=mean_lmb_est.astype(float)\n",
    "        ).fit().params.round(6)\n",
    "    adj_wage_on_mean_lmb[m] = pi_tilde\n"
   ]
  },
  {
   "cell_type": "markdown",
   "metadata": {},
   "source": [
    "Based on the results of the MC estimation, create some plots taht wil be used in my master's thesis.\n",
    "First, plot an histogram of the estimation results for price changes. The true value that is used in the DGP is 0.1. "
   ]
  },
  {
   "cell_type": "code",
   "execution_count": 219,
   "metadata": {
    "scrolled": false
   },
   "outputs": [
    {
     "data": {
      "image/png": "[encoded data removed]",
      "text/plain": [
       "<Figure size 432x288 with 1 Axes>"
      ]
     },
     "metadata": {
      "needs_background": "light"
     },
     "output_type": "display_data"
    }
   ],
   "source": [
    "plt.rc('axes', axisbelow=True)\n",
    "plt.xticks(rotation=45)\n",
    "plt.xlabel(\"estimated change in relative skill prices\")\n",
    "plt.ylabel(\"frequency\")\n",
    "plt.rc('grid', linestyle=\"-\", color='black')\n",
    "plt.grid(True)\n",
    "plt.hist(adj_wage_on_mean_lmb, bins=100, range=(0.09, 0.11))\n",
    "plt.savefig(\"MC_simulation\\\\FIG\\\\MC_estimation_rslt.png\", dpi=450)"
   ]
  },
  {
   "cell_type": "markdown",
   "metadata": {},
   "source": [
    "Get a heatmap of the correlations coefficients for task choices and their squares in the base period."
   ]
  },
  {
   "cell_type": "code",
   "execution_count": 214,
   "metadata": {},
   "outputs": [
    {
     "data": {
      "image/png": "[encoded data removed]",
      "text/plain": [
       "<Figure size 432x288 with 2 Axes>"
      ]
     },
     "metadata": {
      "needs_background": "light"
     },
     "output_type": "display_data"
    }
   ],
   "source": [
    "    corr = exog_base[[\"lmb_0\", \"lmb_1\", \"lmb_0^2\", \"lmb_1^2\"]].corr()\n",
    "    mask = np.zeros_like(corr)\n",
    "    mask[np.triu_indices_from(mask, k=1)] = True\n",
    "    fig = sns.heatmap(\n",
    "        data=corr,\n",
    "        vmin=0.95,\n",
    "        vmax=1.0,\n",
    "        annot=True,\n",
    "        mask=mask,\n",
    "        xticklabels=[\"$\\lambda_{i,t-1}^*$\", \"$\\lambda_{i,t}^*$\", \"$\\lambda_{i,t-1}^{*2}$\", \"$\\lambda_{i,t}^{*2}$\"],\n",
    "        cmap=\"coolwarm\"\n",
    "        )\n",
    "    fig.set_yticklabels(rotation=0, labels=[\"$\\lambda_{i,t-1}^*$\", \"$\\lambda_{i,t}^*$\", \"$\\lambda_{i,t-1}^{*2}$\", \"$\\lambda_{i,t}^{*2}$\"])\n",
    "    fig.get_figure().savefig(\"MC_simulation/FIG/corr_heatmap.png\", dpi=450)"
   ]
  },
  {
   "cell_type": "markdown",
   "metadata": {},
   "source": [
    "Get a beautiful scatterplot of all simulated combinations of optimal task choices and realized wages with histograms on both axes!"
   ]
  },
  {
   "cell_type": "code",
   "execution_count": 222,
   "metadata": {},
   "outputs": [
    {
     "data": {
      "image/png": "[encoded data removed]",
      "text/plain": [
       "<Figure size 576x576 with 3 Axes>"
      ]
     },
     "metadata": {
      "needs_background": "light"
     },
     "output_type": "display_data"
    }
   ],
   "source": [
    "choices = sim_data.loc[idx[0, :], \"lambda\"].values\n",
    "wages = sim_data.loc[idx[0, :], \"wage\"].values\n",
    "\n",
    "\n",
    "def scatter_hist(x, y, ax, ax_histx, ax_histy):\n",
    "    # no labels\n",
    "    ax_histx.tick_params(axis=\"x\", labelbottom=False)\n",
    "    ax_histy.tick_params(axis=\"y\", labelleft=False)\n",
    "\n",
    "    # the scatter plot:\n",
    "    ax.scatter(x, y)\n",
    "\n",
    "    # now determine nice limits by hand:\n",
    "    binwidth = 0.1\n",
    "    xymax = max(np.max(np.abs(x)), np.max(np.abs(y)))\n",
    "    lim = (int(xymax/binwidth) + 1) * binwidth\n",
    "\n",
    "    xbins = np.arange(0, lim + binwidth, binwidth/2)\n",
    "    ybins = np.arange(-lim, lim + binwidth, binwidth)\n",
    "    \n",
    "    ax_histx.hist(x, bins=xbins)\n",
    "    ax_histy.hist(y, bins=ybins, orientation='horizontal')\n",
    "    \n",
    "    #ax_vline.plot([0.5, 0.5], [-lim, lim], color='black', lw=.7)\n",
    "    \n",
    "    \n",
    "\n",
    "# definitions for the axes\n",
    "left, width = 0.1, 0.65\n",
    "bottom, height = 0.1, 0.65\n",
    "spacing = 0.005\n",
    "\n",
    "\n",
    "rect_scatter = [left, bottom, width, height]\n",
    "rect_histx = [left, bottom + height + spacing, width, 0.2]\n",
    "rect_histy = [left + width + spacing, bottom, 0.2, height]\n",
    "\n",
    "# start with a square Figure\n",
    "fig = plt.figure(figsize=(8, 8))\n",
    "\n",
    "ax = fig.add_axes(rect_scatter)\n",
    "ax_histx = fig.add_axes(rect_histx, sharex=ax)\n",
    "ax_histy = fig.add_axes(rect_histy, sharey=ax)\n",
    "\n",
    "# use the previously defined function\n",
    "scatter_hist(choices, wages, ax, ax_histx, ax_histy)\n",
    "\n",
    "# vertical line\n",
    "ax.plot([0.5, 0.5], [wages.max()+.5, wages .min()-.5], color='black', lw=.7)\n",
    "# horizontal line\n",
    "ax.plot([0, 1], [0, 0], color='black', lw=.7)\n",
    "ax.set_xlim(0,1)\n",
    "ax.set_ylim(wages.max()+.5, wages.min()-.5)\n",
    "\n",
    "\n",
    "ax.grid(True)\n",
    "plt.savefig(\"MC_simulation\\\\FIG\\\\simulated_data.png\", dpi=450)\n",
    "plt.show()\n"
   ]
  }
 ],
 "metadata": {
  "kernelspec": {
   "display_name": "Python 3",
   "language": "python",
   "name": "python3"
  },
  "language_info": {
   "codemirror_mode": {
    "name": "ipython",
    "version": 3
   },
   "file_extension": ".py",
   "mimetype": "text/x-python",
   "name": "python",
   "nbconvert_exporter": "python",
   "pygments_lexer": "ipython3",
   "version": "3.7.6"
  },
  "toc": {
   "base_numbering": 1,
   "nav_menu": {},
   "number_sections": true,
   "sideBar": true,
   "skip_h1_title": false,
   "title_cell": "Table of Contents",
   "title_sidebar": "Contents",
   "toc_cell": false,
   "toc_position": {},
   "toc_section_display": true,
   "toc_window_display": false
  }
 },
 "nbformat": 4,
 "nbformat_minor": 4
}
